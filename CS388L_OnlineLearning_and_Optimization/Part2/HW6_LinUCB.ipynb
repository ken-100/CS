{
 "cells": [
  {
   "cell_type": "markdown",
   "metadata": {
    "id": "XaImnLHsjLbX"
   },
   "source": [
    "# LinUCB\n",
    "\n",
    "\n",
    "In this exercise, we will be experimenting with the stochastic linear bandit problem with the LinUCB algorithm described in chapter 19 in the textbook.\n",
    "\n",
    "## Setup\n",
    "\n",
    "The setup is that of section 19.2 in the textbook: At time t, the learner is given the decision set $\\mathcal{A}_t \\subset \\mathbb{R}^d$ from which it chooses an action $A_t \\in \\mathcal{A}_t$ and receives a reward $$X_t = \\langle \\theta_*, A_t \\rangle + \\eta_t, $$ where $\\eta_t $ \\~ $N(0, 0.25)$, i.e. $\\eta_t$ is normally distributed with $0$ mean and $0.25$ variance.\n",
    "\n",
    "Recall also that the genie reward is defined by $$\\max_{a \\in \\mathcal{A}_t} \\langle \\theta_*, a \\rangle.$$"
   ]
  },
  {
   "cell_type": "markdown",
   "metadata": {
    "id": "9bFsb1HhoY8N"
   },
   "source": [
    "# Import Dependencies"
   ]
  },
  {
   "cell_type": "code",
   "execution_count": 1,
   "metadata": {
    "id": "a3a5ji8MonHG"
   },
   "outputs": [],
   "source": [
    "import numpy as np\n",
    "from matplotlib import pylab as plt\n",
    "from tqdm import tqdm"
   ]
  },
  {
   "cell_type": "markdown",
   "metadata": {
    "id": "lD3ENmgB_FV4"
   },
   "source": [
    "# Reward function\n",
    "Question: Implement the reward function described in the setup. Specifically, given the set of available arms, implement pull_arm which returns $X_t$ given the index of the arm played. Implement genie_reward which returns the genie reward."
   ]
  },
  {
   "cell_type": "code",
   "execution_count": 2,
   "metadata": {
    "id": "xujBvOrIjKzo"
   },
   "outputs": [],
   "source": [
    "available_arms = np.array([\n",
    "  (1, 1, 0, 0),\n",
    "  (1, 0, 1, 0),\n",
    "  (1, 0, 0, 1),\n",
    "  (0, 1, 1, 0),\n",
    "  (0, 1, 0, 1),\n",
    "  (0, 0, 1, 1)])\n",
    "\n",
    "class context_arm(object):\n",
    "    def __init__(self, available_arms=available_arms):\n",
    "        self.theta = np.array((0.1, 0.4, 0.2, 0.3))\n",
    "        self.available_arms = np.array(available_arms)\n",
    "\n",
    "    def pull_arm(self, arm_idx): # Return X_t given the index of the arm played\n",
    "        reward = self.theta.dot(self.available_arms[arm_idx]) + np.random.randn() / 2\n",
    "        return reward\n",
    "  \n",
    "    def genie_reward(self): # Return the genie reward\n",
    "        reward = np.max([self.theta.dot(arm) for arm in available_arms]) \n",
    "        return reward"
   ]
  },
  {
   "cell_type": "markdown",
   "metadata": {
    "id": "KUKUOx41jMnO"
   },
   "source": [
    "\n",
    "## Goal of this exercise\n",
    "\n",
    "Implement the following using the template provided below. Please use the variable names suggested in the comments.\n",
    "\n",
    "1. Basic LinUCB algorithm implementation for Gaussian Rewards\n",
    "2. Plot the expected cumulative regret of the LinUCB algorithm as a function of time.\n",
    "3. The cumulative regret is expected to be logarithmic against the horizon. To check that this is case, plot the logarithm of the expected cumulative regret of the LinUCB algorithm. (Hint: use the semilogx function in matplotlib.pyplot) "
   ]
  },
  {
   "cell_type": "markdown",
   "metadata": {
    "id": "ZSnIALbYIoAk"
   },
   "source": [
    "## LinUCB\n",
    "Question:\n",
    "\n",
    "Implement the LinUCB algorithm using the skeleton below. The initialization part is done. Fill out the rest of the skeleton."
   ]
  },
  {
   "cell_type": "code",
   "execution_count": 4,
   "metadata": {},
   "outputs": [],
   "source": [
    "class LinUCB():\n",
    "\n",
    "    def __init__(self, available_arms): # Initialization\n",
    "        self.arms = available_arms\n",
    "        self.num_arms = len(self.arms)\n",
    "        self.d = len(self.arms[0])\n",
    "        self.reward_history = []\n",
    "        self.reward_est = np.zeros(self.num_arms)\n",
    "        self.pull_cnter = np.zeros(self.num_arms)\n",
    "        self.alpha = 2\n",
    "        self.V = np.identity(self.d)\n",
    "        self.b = np.atleast_2d(np.zeros(self.d)).T\n",
    "\n",
    "    def choose_arm(self): # Compute UCB scores and return the selected arm and its index\n",
    "        V_inv = np.linalg.inv(self.V)\n",
    "        theta = np.dot(V_inv, self.b)\n",
    "        UCB_base = self.arms.dot(theta).T[0]\n",
    "        UCB_boost = np.zeros(self.num_arms)\n",
    "        for i in range(self.num_arms):\n",
    "            cur_arm = self.arms[i,:].reshape(-1,1)\n",
    "            UCB_boost[i] = np.sqrt(cur_arm.T.dot(V_inv).dot(cur_arm))\n",
    "        UCB_boost *= self.alpha\n",
    "        ucbs_score = UCB_base + UCB_boost\n",
    "        arm_idx = ucbs_score.argmax()\n",
    "        return self.arms[arm_idx], arm_idx\n",
    "  \n",
    "    def update(self, reward, arm_idx): # update the parameters\n",
    "        self.reward_est[arm_idx] += reward\n",
    "        self.pull_cnter[arm_idx] += 1\n",
    "        self.reward_history.append(reward)\n",
    "        arm = np.atleast_2d(self.arms[arm_idx]).T\n",
    "        self.V += np.dot(arm, arm.T)\n",
    "        self.b += reward * arm"
   ]
  },
  {
   "cell_type": "markdown",
   "metadata": {
    "id": "wRaSTfY9KKmZ"
   },
   "source": [
    "# Experiment Function\n",
    "\n",
    "The following code runs the LinUCB algorithm for multiple instances."
   ]
  },
  {
   "cell_type": "code",
   "execution_count": 5,
   "metadata": {},
   "outputs": [],
   "source": [
    "def regret_vs_horizon(REPEAT, HORIZON):\n",
    "    LinUCB_history = np.zeros(HORIZON)\n",
    "    my_context_arm = context_arm()\n",
    "    \n",
    "    for rep in tqdm(range(REPEAT)):\n",
    "        LinUCB_instance = LinUCB(available_arms)\n",
    "        for i in range(HORIZON):\n",
    "            arm, arm_idx = LinUCB_instance.choose_arm()\n",
    "            reward = my_context_arm.pull_arm(arm_idx)\n",
    "            LinUCB_instance.update(reward, arm_idx)\n",
    "        LinUCB_history += np.array(LinUCB_instance.reward_history)\n",
    "\n",
    "    LinUCB_expected_reward = LinUCB_history / REPEAT\n",
    "    LinUCB_expected_reward = np.cumsum(LinUCB_expected_reward)\n",
    "    best_rewards = my_context_arm.genie_reward()\n",
    "    best_rewards = best_rewards * np.linspace(1, HORIZON, num=HORIZON)\n",
    "    LinUCB_regret = best_rewards - LinUCB_expected_reward\n",
    "    return LinUCB_regret"
   ]
  },
  {
   "cell_type": "markdown",
   "metadata": {
    "id": "-L__bFhQJ8l2"
   },
   "source": [
    "# Run Experiment"
   ]
  },
  {
   "cell_type": "code",
   "execution_count": 6,
   "metadata": {
    "id": "2IVnN-NgjZuB"
   },
   "outputs": [
    {
     "name": "stderr",
     "output_type": "stream",
     "text": [
      "100%|████████████████████████████████████████████████████████████████████████████████| 500/500 [08:42<00:00,  1.04s/it]\n"
     ]
    }
   ],
   "source": [
    "REPEAT = 500\n",
    "HORIZON = 10000\n",
    "LinUCB_regret = regret_vs_horizon(REPEAT, HORIZON)"
   ]
  },
  {
   "cell_type": "markdown",
   "metadata": {
    "id": "XjdzzFzxJB6F"
   },
   "source": [
    "## Plotting the Results\n",
    "\n",
    "Questions: \n",
    "\n",
    "1 - Plot LinUCB_regret against the horizon. Label the x-axis as horizon, and the y-axis as Cumulative Regret. Add a caption labeling this as 'regret vs. horizon: Gaussian Rewards'.\n",
    "\n",
    "2 - Use the semilogx function in matplotlib to check that the regret is logarithmic against horizon. Ignore the first $1000$ iterations in this case."
   ]
  },
  {
   "cell_type": "code",
   "execution_count": 7,
   "metadata": {
    "id": "Iw2yVXlZtCCO"
   },
   "outputs": [
    {
     "data": {
      "image/png": "[encoded data removed]",
      "text/plain": [
       "<Figure size 432x288 with 1 Axes>"
      ]
     },
     "metadata": {
      "needs_background": "light"
     },
     "output_type": "display_data"
    },
    {
     "data": {
      "image/png": "[encoded data removed]",
      "text/plain": [
       "<Figure size 432x288 with 1 Axes>"
      ]
     },
     "metadata": {
      "needs_background": "light"
     },
     "output_type": "display_data"
    }
   ],
   "source": [
    "# Plot LinUCB_regret against the horizon\n",
    "plt.figure()\n",
    "plt.plot(LinUCB_regret)\n",
    "plt.xlabel('Horizon')\n",
    "plt.ylabel('Cumulative Regret')\n",
    "plt.title('Regret vs. Horizon: Gaussian Rewards')\n",
    "plt.show()\n",
    "\n",
    "# Plot the semilogx of LinUCB_regret against the horizon (ignoring first 1000 iterations)\n",
    "# plt.figure(figsize=(6,4))\n",
    "plt.figure()\n",
    "plt.semilogx(range(1000, HORIZON), LinUCB_regret[1000:])\n",
    "plt.xlabel('Horizon')\n",
    "plt.ylabel('Cumulative Regret')\n",
    "plt.title('Semilogx of Regret vs. Horizon: Gaussian Rewards')\n",
    "plt.show()"
   ]
  }
 ],
 "metadata": {
  "colab": {
   "provenance": []
  },
  "kernelspec": {
   "display_name": "Python 3",
   "language": "python",
   "name": "python3"
  },
  "language_info": {
   "codemirror_mode": {
    "name": "ipython",
    "version": 3
   },
   "file_extension": ".py",
   "mimetype": "text/x-python",
   "name": "python",
   "nbconvert_exporter": "python",
   "pygments_lexer": "ipython3",
   "version": "3.8.5"
  }
 },
 "nbformat": 4,
 "nbformat_minor": 4
}
