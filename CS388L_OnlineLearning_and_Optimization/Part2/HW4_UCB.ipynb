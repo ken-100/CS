{
 "cells": [
  {
   "cell_type": "markdown",
   "metadata": {
    "id": "xFLVXPpgG1k2"
   },
   "source": [
    "# Upper Confidence Bound (UCB)\n",
    "In this exercise, we will be experimenting with the Multi-armed bandit problem with the Upper Confidence Bound (UCB) algorithm described in chapter 8 in the textbook (UCB asymptotic optimality).\n",
    "\n",
    "## Setup\n",
    "Consider an unstructured bandit problem. Suppose that we have $k$ arms, each with a random reward at time $t$ given by $rew[t] = avg[t] + \\epsilon[t]$ where $\\epsilon[t]$ is drawn from an i.i.d. standard Gaussian distribution. Note that we only require $\\epsilon[t]$ to be sub-Gaussian for the analysis to go through.\n",
    "\n",
    "The following code should be implemented to capture this setup."
   ]
  },
  {
   "cell_type": "markdown",
   "metadata": {
    "id": "u_YYBfQGKSRD"
   },
   "source": [
    "# Reward function\n",
    "Question: Implement the reward function described in the setup. Specifically, given a $k$- dimensional vector 'avg', return $k$- dimensional vector 'rew' such that $rew[t] = avg[t] + \\epsilon[t]$ where $\\epsilon[t] \\sim \\mathcal{N}(0,I)$ where $I$ is the identity matrix of size $k \\times k$."
   ]
  },
  {
   "cell_type": "code",
   "execution_count": 1,
   "metadata": {
    "id": "yeLyobpT5lLI"
   },
   "outputs": [],
   "source": [
    "def get_reward(avg):\n",
    "    k = len(avg)\n",
    "    epsilon = np.random.normal(0, 1, k)\n",
    "    rew = avg + epsilon\n",
    "    return rew"
   ]
  },
  {
   "cell_type": "markdown",
   "metadata": {
    "id": "mDJG9e-k6HN7"
   },
   "source": [
    "## Algorithm review\n",
    "Recall that there is only one parameter of interest in the UCB algoritm that is $k$ which is the number of arms. Please refer to the lecture notes and the textbook for details (Check algorithm 6 on page 116). The algorithm is as follows:\n",
    "\n",
    "1. First choose each arm once.\n",
    "2. Subsequently, choose the arm with the highest upper confidence bound.\n",
    "3. Observe the reward and update the upper confidence bounds and repeat.\n",
    "\n",
    "## Goal of this exercise\n",
    "Implement the following using the template provided below. Please use the variable names suggested in the comments.\n",
    "1. Basic UCB algorithm implementation\n",
    "2. Plot the expected cumulative regret of the UCB algorithm as a function of time.\n",
    "3. The cumulative regret is expected to be logarithmic against the horizon. To check that this is case, plot the logarithm of the expected cumulative regret of the UCB algorithm. (Hint: use the semilogx function in matplotlib.pyplot) "
   ]
  },
  {
   "cell_type": "markdown",
   "metadata": {
    "id": "f88001UmKSQy"
   },
   "source": [
    "# Import Dependencies"
   ]
  },
  {
   "cell_type": "code",
   "execution_count": 2,
   "metadata": {
    "id": "vVQUR4a1KSQ1"
   },
   "outputs": [],
   "source": [
    "import numpy as np\n",
    "import pickle\n",
    "import matplotlib.pyplot as plt"
   ]
  },
  {
   "cell_type": "markdown",
   "metadata": {
    "id": "MquGHcbOKSQ7"
   },
   "source": [
    "## UCB\n",
    "Question:\\\n",
    "Implement UCB algorithm using the skeleton below. The initialization part is done. Fill out the rest of the skeleton."
   ]
  },
  {
   "cell_type": "code",
   "execution_count": 4,
   "metadata": {
    "id": "Tvp73SObKSQ8"
   },
   "outputs": [],
   "source": [
    "class UCB(object):\n",
    "    def __init__(self, avg):\n",
    "        self.means = avg\n",
    "        self.num_arms = avg.size        \n",
    "        self.best_arm = np.argmax(self.means)\n",
    "        self.restart()\n",
    "\n",
    "    def restart(self):\n",
    "        self.time = 0.0\n",
    "        self.ucb_arr = np.inf * np.ones(self.num_arms)\n",
    "        self.emp_means = np.zeros(self.num_arms)\n",
    "        self.num_pulls = np.zeros(self.num_arms)\n",
    "        self.cum_reg = np.zeros(num_iter)\n",
    "    \n",
    "    def get_best_arm(self):\n",
    "        return np.argmax(self.ucb_arr)\n",
    "    \n",
    "    def update_stats(self, arm, rew):\n",
    "        self.num_pulls[arm] += 1\n",
    "        self.emp_means[arm] = ((self.emp_means[arm] * (self.num_pulls[arm] - 1)) + rew) / self.num_pulls[arm]\n",
    "        self.time += 1\n",
    "    \n",
    "    def update_ucb(self):\n",
    "        for arm in range(self.num_arms):\n",
    "            if self.num_pulls[arm] > 0:\n",
    "                self.ucb_arr[arm] = self.emp_means[arm] + np.sqrt(2 * np.log(self.time) / self.num_pulls[arm])\n",
    "    \n",
    "    def update_reg(self, arm, rew_vec):\n",
    "        self.cum_reg[int(self.time)] = self.cum_reg[int(self.time) - 1] + (rew_vec[self.best_arm] - rew_vec[arm])\n",
    "    \n",
    "    def iterate(self, rew_vec):\n",
    "        arm = self.get_best_arm()\n",
    "        rew = rew_vec[arm]\n",
    "        \n",
    "        self.update_stats(arm, rew)\n",
    "        self.update_ucb()\n",
    "        self.update_reg(arm, rew_vec)\n",
    "    "
   ]
  },
  {
   "cell_type": "markdown",
   "metadata": {
    "id": "I10RrDSQKSRE"
   },
   "source": [
    "# Experiment Function\n",
    "The following code runs the UCB algorithm for multiple instances. In the code below, num_inst is the number of instances, and num_iter is the time at which we stop."
   ]
  },
  {
   "cell_type": "code",
   "execution_count": 5,
   "metadata": {
    "id": "0Fx9jS8yKSRE"
   },
   "outputs": [],
   "source": [
    "def run_algo(avg, num_iter, num_inst):\n",
    "    reg = np.zeros((num_inst, num_iter))\n",
    "    \n",
    "    algo = UCB(avg)\n",
    "    \n",
    "    for k in range(num_inst):\n",
    "        algo.restart()\n",
    "        \n",
    "        if (k+1)%10 == 0:\n",
    "            print('Instance number = ', k+1)\n",
    "        \n",
    "        for t in range(num_iter-1):\n",
    "            rew_vec = get_reward(avg)\n",
    "            algo.iterate(rew_vec)\n",
    "            \n",
    "        reg[k,:] = np.asarray(algo.cum_reg)\n",
    "        \n",
    "    return reg"
   ]
  },
  {
   "cell_type": "markdown",
   "metadata": {
    "id": "d7F-qmObKSRE"
   },
   "source": [
    "# Initializations\n",
    "Use the following to initialize your algorithm. The value of $k$ is implicitly set to $6$ in the initialization below. (This vector contains the actual mean rewards)."
   ]
  },
  {
   "cell_type": "code",
   "execution_count": 6,
   "metadata": {
    "id": "wQ7a9BK5KSRF"
   },
   "outputs": [],
   "source": [
    "avg = np.asarray([0.8, 0.96,0.7,0.5, 0.4, 0.3])\n",
    "num_iter,num_inst = int(5e4),30"
   ]
  },
  {
   "cell_type": "markdown",
   "metadata": {
    "id": "PwYSOBtKKSRF"
   },
   "source": [
    "# Run Experiment\n",
    "\n"
   ]
  },
  {
   "cell_type": "code",
   "execution_count": 7,
   "metadata": {
    "id": "k-FGPjfcKSRF"
   },
   "outputs": [
    {
     "name": "stdout",
     "output_type": "stream",
     "text": [
      "Instance number =  10\n",
      "Instance number =  20\n",
      "Instance number =  30\n"
     ]
    }
   ],
   "source": [
    "reg = run_algo(avg, num_iter, num_inst)"
   ]
  },
  {
   "cell_type": "markdown",
   "metadata": {
    "id": "-YRpvPqE_ex2"
   },
   "source": [
    "## Plotting the Results\n",
    "Questions: \n",
    "\n",
    "1 - Compute the average regret over the number of instances and plot it against the number of iterations. Label the x-axis as time, and the y-axis as Cumulative Regret. Add a caption labeling this as 'Cumulative Regret with UCB'.\n",
    "\n",
    "2 - Use the semilogx function in matplotlib to check that the regret is logarithmic against horizon."
   ]
  },
  {
   "cell_type": "code",
   "execution_count": 8,
   "metadata": {},
   "outputs": [
    {
     "data": {
      "image/png": "[encoded data removed]",
      "text/plain": [
       "<Figure size 432x288 with 1 Axes>"
      ]
     },
     "metadata": {
      "needs_background": "light"
     },
     "output_type": "display_data"
    },
    {
     "data": {
      "image/png": "[encoded data removed]",
      "text/plain": [
       "<Figure size 432x288 with 1 Axes>"
      ]
     },
     "metadata": {
      "needs_background": "light"
     },
     "output_type": "display_data"
    }
   ],
   "source": [
    "avg_reg = np.mean(reg, axis=0)\n",
    "plt.figure()\n",
    "plt.plot(np.arange(num_iter), avg_reg)\n",
    "plt.xlabel('Time')\n",
    "plt.ylabel('Cumulative Regret')\n",
    "plt.title('Cumulative Regret with UCB')\n",
    "plt.show()\n",
    "\n",
    "plt.figure()\n",
    "plt.semilogx(np.arange(num_iter), avg_reg)\n",
    "plt.xlabel('Time')\n",
    "plt.ylabel('Cumulative Regret')\n",
    "plt.title('Logarithmic Regret with UCB')\n",
    "plt.show()"
   ]
  }
 ],
 "metadata": {
  "colab": {
   "provenance": []
  },
  "kernelspec": {
   "display_name": "Python 3",
   "language": "python",
   "name": "python3"
  },
  "language_info": {
   "codemirror_mode": {
    "name": "ipython",
    "version": 3
   },
   "file_extension": ".py",
   "mimetype": "text/x-python",
   "name": "python",
   "nbconvert_exporter": "python",
   "pygments_lexer": "ipython3",
   "version": "3.8.5"
  }
 },
 "nbformat": 4,
 "nbformat_minor": 4
}
