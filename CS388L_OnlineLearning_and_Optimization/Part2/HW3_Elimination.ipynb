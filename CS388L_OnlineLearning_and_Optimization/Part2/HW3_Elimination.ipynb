{
 "cells": [
  {
   "cell_type": "markdown",
   "metadata": {
    "id": "U8zsBUNoFVIP"
   },
   "source": [
    "# Elimination Algorithm\n",
    "In this exercise, we will be experimenting with the Multi-armed bandit problem with the Elimination algorithm described in chapter 6 in the textbook.\n",
    "\n",
    "## Setup\n",
    "Consider an unstructured bandit problem. Suppose that we have $k$ arms, each with a random reward at time $t$ given by $rew[t] = avg[t] + \\epsilon[t]$ where $\\epsilon[t]$ is drawn from an i.i.d. Gaussian distribution whose variance is $0.01$. Note that we only require $\\epsilon[t]$ to be sub-Gaussian for the analysis to go through.\n",
    "\n",
    "The following code should be implemented to capture this setup."
   ]
  },
  {
   "cell_type": "markdown",
   "metadata": {
    "id": "u_YYBfQGKSRD"
   },
   "source": [
    "# Reward function\n",
    "Question: Implement the reward function described in the setup. Specifically, given a $k$- dimensional vector 'avg', return $k$- dimensional vector 'rew' such that $rew[t] = avg[t] + \\epsilon[t]$ where $\\epsilon[t] \\sim \\mathcal{N}(0,0.01 \\times I)$ where $I$ is the identity matrix of size $k \\times k$."
   ]
  },
  {
   "cell_type": "code",
   "execution_count": 1,
   "metadata": {},
   "outputs": [],
   "source": [
    "def get_reward(avg):\n",
    "#     np.random.seed(0)\n",
    "    k = len(avg)    \n",
    "    rew = avg + np.random.multivariate_normal(np.zeros(k),0.01*np.identity(k))\n",
    "    return rew"
   ]
  },
  {
   "cell_type": "markdown",
   "metadata": {
    "id": "45sYBKNBXQ8l"
   },
   "source": [
    "## Algorithm review\n",
    "Recall there are three parameters of interest in the Elimination algoritm: $(n, k, m_l),$ where $n$ is the time horizon, $k$ is the number of arms, and $m_l$ is an algorithm parameter. Please refer to the text book (Algorithm 2 page 98) for details.\\\n",
    "The parameter to set: $m_l$ which is the number of times arm $i \\in A_l$ is chosen during epoch $l$ where $A_l$ is the active set.\n",
    "\n",
    "## Goal of this exercise\n",
    "Implement the following using the template provided below. Please use the variable names suggested in the comments.\n",
    "1. Basic Elimination algorithm implementation\n",
    "2. Plot the expected cumulative regret of the Elimination algorithm vs. horizon ($n$).\n",
    "3. The cumulative regret is expected to be logarithmic against the horizon. To check that this is case, plot the logarithm of the expected cumulative regret of the Elimination algorithm vs. horizon ($n$). (Hint: use the semilogx function in matplotlib.pyplot) "
   ]
  },
  {
   "cell_type": "markdown",
   "metadata": {
    "id": "f88001UmKSQy"
   },
   "source": [
    "# Import Dependencies"
   ]
  },
  {
   "cell_type": "code",
   "execution_count": 2,
   "metadata": {
    "id": "vVQUR4a1KSQ1"
   },
   "outputs": [],
   "source": [
    "import numpy as np\n",
    "import math\n",
    "import pickle\n",
    "import matplotlib.pyplot as plt"
   ]
  },
  {
   "cell_type": "markdown",
   "metadata": {
    "id": "vZyQhcUbF-fT"
   },
   "source": [
    "## Elimination algorithm\n",
    "Question: \\\n",
    "Implement Elimination algorithm using the skeleton below. The initialization part is done. Fill out the rest of the skeleton."
   ]
  },
  {
   "cell_type": "code",
   "execution_count": 3,
   "metadata": {},
   "outputs": [],
   "source": [
    "class Elimination():\n",
    "    def __init__(self, avg, num_iter ): ## Initialization\n",
    "\n",
    "        self.means = avg\n",
    "        self.num_iter = num_iter\n",
    "        self.num_arms = avg.size\n",
    "        self.best_arm = np.argmax(avg)\n",
    "        self.time = 0.0\n",
    "        self.A = np.arange(self.num_arms)\n",
    "        self.cum_reg = [0]\n",
    "        self.m = np.ceil( 2 ** (2 * self.time) * np.log(max(np.exp(1), self.num_arms * self.num_iter * 2 ** (-2 * self.time))))\n",
    "        self.iter = 0\n",
    "        self.restart() \n",
    "    ## variable names (most are self explanatory)\n",
    "    ## self.num_arms is the number of arms (k)\n",
    "    ## self.means[arm] is the vector of true means of the arms\n",
    "    ## self.time is the current time index: 1,....,num_iterations (this is t in the description at the top of this page)\n",
    "    ## self.best_arm is the best arm given the true mean rewards\n",
    "    ## self.cum_reg is the cumulative regret\n",
    "    ## self.emp_means[arm] is the vector of empirical means of arms computed using the samples from epoch l\n",
    "    ## self.num_pulls[arm] is the vector of number of times that arm k has been pulled during epoch l\n",
    "    ## self.A is the active set in epoch l\n",
    "    ## self.time2 is the time index in epoch l i.e: it goes from 1,..., m_l * size(self.A)\n",
    "    ## self.m is the number of times to pull each arm in the active set in epoch l\n",
    "\n",
    "\n",
    "    def restart(self): ## Restart the algorithm: Reset self.time2 to zero (done)\n",
    "                     ## Set the values of the empirical means and number of pulls to zero.\n",
    "        self.time2 = 0.0\n",
    "        self.emp_means = np.zeros(self.num_arms)\n",
    "        self.num_pulls = np.zeros(self.num_arms)\n",
    "  \n",
    "    def get_best_arm(self): ## For each time index in epoch l, find the best arm according to e-greedy \n",
    "        return self.A[int(self.time2 % len(self.A))]\n",
    "\n",
    "    \n",
    "    \n",
    "    def update_stats(self, rew, arm): ## Update the empirical means, the number of pulls, and increment self.time2\n",
    "        self.num_pulls[arm] += 1\n",
    "        self.emp_means[arm] = (self.emp_means[arm] * self.num_pulls[arm] + rew) / (self.num_pulls[arm] + 1 )\n",
    "        self.time2 += 1\n",
    "\n",
    "\n",
    "    def update_elim(self): ## Update the active set\n",
    "        self.m = np.ceil( 2 ** (2 * self.time) * np.log(max(np.exp(1), self.num_arms * self.num_iter * 2 ** (-2 * self.time))) )\n",
    "\n",
    "        max_mean = np.amax(self.emp_means)\n",
    "        elim_bound = 1 / (2**self.time)\n",
    "        new_A = []\n",
    "        for arm in self.A:\n",
    "            if self.emp_means[arm] + elim_bound >= max_mean:\n",
    "                new_A.append(arm)\n",
    "\n",
    "        self.A = np.asarray(new_A)\n",
    "    \n",
    "    \n",
    "    def update_reg(self,rew_vec,arm): ## Update the cumulative regret\n",
    "        self.cum_reg.append(self.cum_reg[int(self.iter)] + (rew_vec[self.best_arm] - rew_vec[arm]))\n",
    "\n",
    "    \n",
    "    def iterate(self, rew_vec): ## Iterate the algorithm\n",
    "        arm = self.get_best_arm()\n",
    "\n",
    "        self.update_reg(rew_vec, arm)\n",
    "        self.update_stats(rew_vec[arm], arm)\n",
    "        self.iter += 1\n"
   ]
  },
  {
   "cell_type": "markdown",
   "metadata": {
    "id": "I10RrDSQKSRE"
   },
   "source": [
    "# Experiment Function\n",
    "\n",
    "The following code runs the Elimination algorithm for multiple instances. In the code below, num_inst is the number of instances, and num_iter is the time horizon."
   ]
  },
  {
   "cell_type": "code",
   "execution_count": 4,
   "metadata": {
    "id": "0Fx9jS8yKSRE"
   },
   "outputs": [],
   "source": [
    "def run_algo(avg, num_iter, num_inst):\n",
    "    reg = np.zeros((num_inst, num_iter))\n",
    "    \n",
    "    for k in range(num_inst):\n",
    "        algo = Elimination(avg, num_iter)\n",
    "\n",
    "        if (k+1) % 10 == 0:\n",
    "            print('Instance number = ', k+1)\n",
    "\n",
    "        while len(algo.cum_reg) <= num_iter:\n",
    "            if len(algo.cum_reg) >= num_iter:\n",
    "                break \n",
    "\n",
    "            for t in range(int(algo.m) * algo.A.size):\n",
    "                if len(algo.cum_reg) >= num_iter:\n",
    "                    break \n",
    "                else:\n",
    "                    rew_vec = get_reward(avg)\n",
    "                    algo.iterate(rew_vec)            \n",
    "\n",
    "            algo.update_elim()\n",
    "            algo.restart()\n",
    "            algo.time += 1\n",
    "\n",
    "        reg[k, :] = np.asarray(algo.cum_reg)\n",
    "\n",
    "    return reg"
   ]
  },
  {
   "cell_type": "markdown",
   "metadata": {
    "id": "d7F-qmObKSRE"
   },
   "source": [
    "# Initializations\n",
    "\n",
    "Use the following to initialize your algorithm. The value of $k$ is implicitly set to $5$ in the initialization below. (This vector contains the actual mean rewards)."
   ]
  },
  {
   "cell_type": "code",
   "execution_count": 5,
   "metadata": {
    "id": "wQ7a9BK5KSRF"
   },
   "outputs": [],
   "source": [
    "avg = np.asarray([0.8, 0.88, 0.5, 0.7, 0.65])\n",
    "num_iter,num_inst = int(1500),250"
   ]
  },
  {
   "cell_type": "markdown",
   "metadata": {
    "id": "PwYSOBtKKSRF"
   },
   "source": [
    "# Run Experiment"
   ]
  },
  {
   "cell_type": "code",
   "execution_count": 6,
   "metadata": {
    "id": "k-FGPjfcKSRF"
   },
   "outputs": [
    {
     "name": "stdout",
     "output_type": "stream",
     "text": [
      "Instance number =  10\n",
      "Instance number =  20\n",
      "Instance number =  30\n",
      "Instance number =  40\n",
      "Instance number =  50\n",
      "Instance number =  60\n",
      "Instance number =  70\n",
      "Instance number =  80\n",
      "Instance number =  90\n",
      "Instance number =  100\n",
      "Instance number =  110\n",
      "Instance number =  120\n",
      "Instance number =  130\n",
      "Instance number =  140\n",
      "Instance number =  150\n",
      "Instance number =  160\n",
      "Instance number =  170\n",
      "Instance number =  180\n",
      "Instance number =  190\n",
      "Instance number =  200\n",
      "Instance number =  210\n",
      "Instance number =  220\n",
      "Instance number =  230\n",
      "Instance number =  240\n",
      "Instance number =  250\n"
     ]
    }
   ],
   "source": [
    "reg = run_algo(avg, num_iter, num_inst)"
   ]
  },
  {
   "cell_type": "markdown",
   "metadata": {
    "id": "yzkOyj3YhHb1"
   },
   "source": [
    "## Plotting the Results\n",
    "Questions: \\\n",
    "1 - Compute the average regret over the number of instances and plot it against the horizon. Label the x-axis as time, and the y-axis as Cumulative Regret. Add a caption labeling this as 'Cumulative Regret with Eliminiation Algorithm.\n",
    "\n",
    "2 - Use the semilogx function in matplotlib to check that the regret is logarithmic against horizon."
   ]
  },
  {
   "cell_type": "code",
   "execution_count": 7,
   "metadata": {
    "id": "OM7JbeOxKSRG"
   },
   "outputs": [
    {
     "data": {
      "image/png": "[encoded data removed]",
      "text/plain": [
       "<Figure size 360x216 with 1 Axes>"
      ]
     },
     "metadata": {
      "needs_background": "light"
     },
     "output_type": "display_data"
    },
    {
     "data": {
      "image/png": "[encoded data removed]",
      "text/plain": [
       "<Figure size 360x216 with 1 Axes>"
      ]
     },
     "metadata": {
      "needs_background": "light"
     },
     "output_type": "display_data"
    }
   ],
   "source": [
    "# Compute the average regret over the number of instances\n",
    "avg_regret = np.mean(reg, axis=0)\n",
    "\n",
    "# Plot the average cumulative regret against horizon\n",
    "plt.figure(figsize=(5, 3))\n",
    "plt.plot(range(num_iter), avg_regret)\n",
    "plt.xlabel('Time')\n",
    "plt.ylabel('Cumulative Regret')\n",
    "plt.title('Cumulative Regret with Elimination Algorithm')\n",
    "plt.show()\n",
    "\n",
    "# Plot the average cumulative regret using semilogx to check if it's logarithmic against horizon\n",
    "plt.figure(figsize=(5, 3))\n",
    "plt.semilogx(range(num_iter), avg_regret)\n",
    "plt.xlabel('Time')\n",
    "plt.ylabel('Cumulative Regret')\n",
    "plt.title('Logarithmic Cumulative Regret with Elimination Algorithm')\n",
    "plt.show()"
   ]
  }
 ],
 "metadata": {
  "colab": {
   "provenance": []
  },
  "kernelspec": {
   "display_name": "Python 3",
   "language": "python",
   "name": "python3"
  },
  "language_info": {
   "codemirror_mode": {
    "name": "ipython",
    "version": 3
   },
   "file_extension": ".py",
   "mimetype": "text/x-python",
   "name": "python",
   "nbconvert_exporter": "python",
   "pygments_lexer": "ipython3",
   "version": "3.8.5"
  }
 },
 "nbformat": 4,
 "nbformat_minor": 4
}
