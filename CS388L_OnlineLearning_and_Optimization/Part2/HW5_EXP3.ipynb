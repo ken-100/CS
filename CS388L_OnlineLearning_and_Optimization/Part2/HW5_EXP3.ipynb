{
 "cells": [
  {
   "cell_type": "markdown",
   "metadata": {
    "id": "xjvJ2u48yNM2"
   },
   "source": [
    "# EXP3\n",
    "\n",
    "In this exercise, we will be experimenting with the Multi-armed bandit problem with the EXP3 algorithm.\n",
    "\n",
    "## Setup\n",
    "\n",
    "Consider an unstructured bandit problem. Suppose that we have $k$ arms, each with random reward at time $t$ given by $rew[t] = avg[t] + \\epsilon[t]$ where $\\epsilon[t]$ is drawn from an i.i.d. standard Gaussian distribution.\n",
    "The following code should be implemented to capture this setup."
   ]
  },
  {
   "cell_type": "markdown",
   "metadata": {
    "id": "u_YYBfQGKSRD"
   },
   "source": [
    "# Reward function\n",
    "Question: Implement the reward function described in the setup. Specifically, given a $k$- dimensional vector 'avg', return $k$- dimensional vector 'rew' such that $rew[t] = avg[t] + \\epsilon[t]$ where $\\epsilon[t] \\sim \\mathcal{N}(0,0.01 \\times I)$ where $I$ is the identity matrix of size $k \\times k$."
   ]
  },
  {
   "cell_type": "code",
   "execution_count": 1,
   "metadata": {
    "id": "hSEJ-ZfXKSRD"
   },
   "outputs": [],
   "source": [
    "def get_reward(avg, var):\n",
    "    cov = var * np.identity(len(avg))\n",
    "    rew = avg + np.random.multivariate_normal(np.zeros(len(avg)), cov)\n",
    "    return rew"
   ]
  },
  {
   "cell_type": "markdown",
   "metadata": {
    "id": "o50UJFJ8zqNI"
   },
   "source": [
    "## Algorithm review\n",
    "\n",
    "\n",
    "Recall there are three parameters of interest in the EXP3 algoritm: $(n, k, \\eta),$ where $n$ is the time horizon, $k$ is the number of arms, and $\\eta$ is a learning rate. Please refer to the text book (Algorithm 9 page 152) for details.\n",
    "\n",
    "\n",
    "## Goal of this exercise\n",
    "\n",
    "Implement the following using the template provided below. Please use the variable names suggested in the comments.\n",
    "\n",
    "1. Basic EXP3 algorithm implementation\n",
    "2. Plot the expected cumulative regret of the EXP3 algorithm vs. horizon ($n$).\n",
    "3. The cumulative regret is expected to be logarithmic against the horizon. To check that this is case, plot the logarithm of the expected cumulative regret of the EXP3 algorithm vs. horizon ($n$). (Hint: use the semilogx function in matplotlib.pyplot) "
   ]
  },
  {
   "cell_type": "markdown",
   "metadata": {
    "id": "f88001UmKSQy"
   },
   "source": [
    "# Import Dependencies"
   ]
  },
  {
   "cell_type": "code",
   "execution_count": 2,
   "metadata": {
    "id": "vVQUR4a1KSQ1"
   },
   "outputs": [],
   "source": [
    "import numpy as np\n",
    "import pickle\n",
    "import matplotlib.pyplot as plt"
   ]
  },
  {
   "cell_type": "markdown",
   "metadata": {
    "id": "MquGHcbOKSQ7"
   },
   "source": [
    "## EXP3\n",
    "Question:\n",
    "\n",
    "Implement the EXP3 algorithm using the skeleton below. The initialization part is done. Fill out the rest of the skeleton."
   ]
  },
  {
   "cell_type": "code",
   "execution_count": 3,
   "metadata": {
    "id": "Tvp73SObKSQ8"
   },
   "outputs": [],
   "source": [
    "class EXP3:\n",
    "    def __init__(self, avg, eta):\n",
    "        self.means = avg\n",
    "        self.num_arms = avg.size\n",
    "        self.eta = eta\n",
    "        self.best_arm = np.argmax(self.means)\n",
    "        self.restart()\n",
    "\n",
    "    def restart(self):\n",
    "        self.time = 0.0\n",
    "        self.num_plays = np.zeros(self.num_arms)\n",
    "        self.probs_arr = (1 / self.num_arms) * np.ones(self.num_arms)\n",
    "        self.S = np.zeros(self.num_arms)\n",
    "        self.cum_reg = [0]\n",
    "\n",
    "    def get_best_arm(self):\n",
    "        return np.random.choice(self.num_arms, p=self.probs_arr)\n",
    "\n",
    "    def update_exp3(self, arm, rew_vec):\n",
    "        self.probs_arr = np.exp(self.eta * self.S) / sum(np.exp(self.eta * self.S))\n",
    "        for i in range(self.num_arms):\n",
    "            if arm == i:\n",
    "                self.S[i] += 1 - (1 - rew_vec[i]) / self.probs_arr[i]\n",
    "            else:\n",
    "                self.S[i] += 1\n",
    "\n",
    "    def update_reg(self, arm, rew_vec):\n",
    "        self.cum_reg += [self.cum_reg[-1] + rew_vec[self.best_arm] - rew_vec[arm]]\n",
    "\n",
    "    def iterate(self, rew_vec):\n",
    "        self.time += 1.0\n",
    "        play = self.get_best_arm()\n",
    "        self.update_exp3(play, rew_vec)\n",
    "        self.update_reg(play, rew_vec)"
   ]
  },
  {
   "cell_type": "markdown",
   "metadata": {
    "id": "I10RrDSQKSRE"
   },
   "source": [
    "# Experiment Function\n",
    "\n",
    "The following code runs the EXP3 algorithm for multiple instances. In the code below, num_inst is the number of instances, and num_iter is the time at which we stop."
   ]
  },
  {
   "cell_type": "code",
   "execution_count": 4,
   "metadata": {
    "id": "0Fx9jS8yKSRE"
   },
   "outputs": [],
   "source": [
    "def run_algo(avg, eta, num_iter, num_inst, var):\n",
    "    reg = np.zeros((num_inst, num_iter))\n",
    "    algo = EXP3(avg, eta)\n",
    "\n",
    "    for k in range(num_inst):\n",
    "        algo.restart()\n",
    "\n",
    "        if (k + 1) % 10 == 0:\n",
    "            print(f'Instance number = {k + 1}')\n",
    "\n",
    "        for t in range(num_iter - 1):\n",
    "            rew_vec = get_reward(avg, var)\n",
    "            algo.iterate(rew_vec)\n",
    "\n",
    "        reg[k, :] = np.asarray(algo.cum_reg)\n",
    "\n",
    "    return reg"
   ]
  },
  {
   "cell_type": "markdown",
   "metadata": {
    "id": "d7F-qmObKSRE"
   },
   "source": [
    "# Initializations\n",
    "Use the following to initialize your algorithm. The value of $k$ is implicitly set to $3$ in the initialization below. (This vector contains the actual mean rewards)."
   ]
  },
  {
   "cell_type": "code",
   "execution_count": 5,
   "metadata": {
    "id": "wQ7a9BK5KSRF"
   },
   "outputs": [],
   "source": [
    "avg = np.asarray([0.8,0.7,0.5])\n",
    "num_iter,num_inst = int(2e3),20\n",
    "eta = np.sqrt(np.log(avg.size) / (num_iter * avg.size))\n",
    "var = 0.01"
   ]
  },
  {
   "cell_type": "markdown",
   "metadata": {
    "id": "PwYSOBtKKSRF"
   },
   "source": [
    "# Run Experiment"
   ]
  },
  {
   "cell_type": "code",
   "execution_count": 6,
   "metadata": {
    "id": "k-FGPjfcKSRF"
   },
   "outputs": [
    {
     "name": "stdout",
     "output_type": "stream",
     "text": [
      "Instance number = 10\n",
      "Instance number = 20\n"
     ]
    }
   ],
   "source": [
    "reg = run_algo(avg, eta, num_iter, num_inst, var)"
   ]
  },
  {
   "cell_type": "markdown",
   "metadata": {
    "id": "k6SzuIJf7KMD"
   },
   "source": [
    "## Plotting the Results\n",
    "\n",
    "Questions: \n",
    "\n",
    "1 - Compute the average regret over the number of instances and plot it against the number of iterations. Label the x-axis as time, and the y-axis as Cumulative Regret. Add a caption labeling this as 'Cumulative Regret with EXP3'.\n",
    "\n",
    "2 - Use the semilogx function in matplotlib to check that the regret is logarithmic against horizon."
   ]
  },
  {
   "cell_type": "code",
   "execution_count": 7,
   "metadata": {},
   "outputs": [
    {
     "data": {
      "image/png": "[encoded data removed]",
      "text/plain": [
       "<Figure size 432x288 with 1 Axes>"
      ]
     },
     "metadata": {
      "needs_background": "light"
     },
     "output_type": "display_data"
    },
    {
     "data": {
      "image/png": "[encoded data removed]",
      "text/plain": [
       "<Figure size 432x288 with 1 Axes>"
      ]
     },
     "metadata": {
      "needs_background": "light"
     },
     "output_type": "display_data"
    }
   ],
   "source": [
    "# 1 - Compute the average regret over the number of instances and plot it against the number of iterations.\n",
    "mean_reg = np.mean(reg, axis=0)\n",
    "plt.plot(np.arange(num_iter), mean_reg)\n",
    "plt.xlabel('Time')\n",
    "plt.ylabel('Cumulative Regret')\n",
    "plt.title('Cumulative Regret with EXP3')\n",
    "plt.show()\n",
    "\n",
    "# 2 - Use the semilogx function in matplotlib to check that the regret is logarithmic against horizon.\n",
    "plt.semilogx(np.arange(num_iter), mean_reg)\n",
    "plt.xlabel('Time (Log scale)')\n",
    "plt.ylabel('Cumulative Regret')\n",
    "plt.title('Cumulative Regret with EXP3 (Logarithmic Horizon)')\n",
    "plt.show()"
   ]
  }
 ],
 "metadata": {
  "colab": {
   "provenance": []
  },
  "kernelspec": {
   "display_name": "Python 3",
   "language": "python",
   "name": "python3"
  },
  "language_info": {
   "codemirror_mode": {
    "name": "ipython",
    "version": 3
   },
   "file_extension": ".py",
   "mimetype": "text/x-python",
   "name": "python",
   "nbconvert_exporter": "python",
   "pygments_lexer": "ipython3",
   "version": "3.8.5"
  }
 },
 "nbformat": 4,
 "nbformat_minor": 4
}
