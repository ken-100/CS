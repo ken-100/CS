{
 "cells": [
  {
   "cell_type": "markdown",
   "metadata": {
    "id": "iyzxslwOdkNt"
   },
   "source": [
    "# $\\varepsilon$-greedy\n",
    "\n",
    "In this exercise, we will be experimenting with the Multi-armed bandit problem with $\\varepsilon$-greedy algorithm.\n",
    "\n",
    "## Setup\n",
    "\n",
    "Consider an unstructured bandit problem. Suppose that we have $k$ arms, each with random reward at time $t$ given by $rew[t] = avg[t] + \\eta[t]$ where $\\eta[t]$ is drawn from an i.i.d. standard Gaussian distribution. Note that we only require $\\eta[t]$ to be sub-Gaussian for the analysis to go through.\n",
    "\n",
    "The following code should be implemented to capture this setup."
   ]
  },
  {
   "cell_type": "markdown",
   "metadata": {
    "id": "u_YYBfQGKSRD"
   },
   "source": [
    "# Reward function\n",
    "\n",
    "Question: Implement the reward function described in the setup. Specifically, given a $k$- dimensional vector 'avg', return $k$- dimensional vector 'rew' such that $rew[t] = avg[t] + \\epsilon[t]$ where $\\epsilon[t] \\sim \\mathcal{N}(0,I)$ where $I$ is the identity matrix of size $k \\times k$."
   ]
  },
  {
   "cell_type": "code",
   "execution_count": 1,
   "metadata": {},
   "outputs": [],
   "source": [
    "import numpy as np\n",
    "import pickle\n",
    "import matplotlib.pyplot as plt"
   ]
  },
  {
   "cell_type": "code",
   "execution_count": 2,
   "metadata": {
    "id": "hSEJ-ZfXKSRD"
   },
   "outputs": [],
   "source": [
    "def get_reward(avg):\n",
    "    rew = avg + np.random.multivariate_normal(np.zeros(len(avg)),np.identity(len(avg)))\n",
    "    return rew"
   ]
  },
  {
   "cell_type": "markdown",
   "metadata": {
    "id": "sWzrvMMxe2p6"
   },
   "source": [
    "## Algorithm review\n",
    "\n",
    "\n",
    "Recall there are three parameters of interest in the $\\varepsilon$-greedy algoritm: $(n, k, \\varepsilon[t]),$ where $n$ is the time horizon, $k$ is the number of arms, and $\\varepsilon[t]$ is an algorithm parameter. Please refer to the lecture notes and the text book for details.\n",
    "\n",
    "The parameter to set: $\\varepsilon[t]$ which is the probability of choosing an arm uniformly at random at time $t$. (Hint: use exercise $(6.7 - b)$ in the book to set the values of $\\varepsilon[t]$)\n",
    "\n",
    "1. First choose each arm once.\n",
    "2. Subsequently, choose the arm with the highest empirical mean reward estimate with a probability $1 - \\varepsilon[t]$ or otherwise choose an arm\n",
    "uniformly at random.\n",
    "\n",
    "## Goal of this exercise\n",
    "\n",
    "Implement the following using the template provided below. Please use the variable names suggested in the comments.\n",
    "\n",
    "1. Basic $\\varepsilon$-greedy algorithm implementation\n",
    "2. Plot the expected cumulative regret of the $\\varepsilon$-greedy algorithm vs. horizon ($n$).\n",
    "3. The cumulative regret is expected to be logarithmic against the horizon. To check that this is case, plot the logarithm of the expected cumulative regret of the $\\varepsilon$-greedy algorithm vs. horizon ($n$). (Hint: use the semilogx function in matplotlib.pyplot) "
   ]
  },
  {
   "cell_type": "markdown",
   "metadata": {
    "id": "f88001UmKSQy"
   },
   "source": [
    "# Import Dependencies"
   ]
  },
  {
   "cell_type": "markdown",
   "metadata": {
    "id": "vZyQhcUbF-fT"
   },
   "source": [
    "## $\\varepsilon$-greedy\n",
    "\n",
    "Question:\n",
    "\n",
    "Implement $\\varepsilon$-greedy using the skeleton below. The initialization part is done. Fill out the rest of the skeleton."
   ]
  },
  {
   "cell_type": "code",
   "execution_count": 3,
   "metadata": {},
   "outputs": [],
   "source": [
    "class egreedy():\n",
    "    def __init__(self, avg): ## Initialization\n",
    "        self.means = avg\n",
    "        self.num_arms = avg.size\n",
    "        self.best_arm = np.argmax(avg)\n",
    "        self.C = 1\n",
    "        sort = np.sort(avg)[::-1]\n",
    "        self.delta = sort[0] - sort[1]\n",
    "        self.restart()\n",
    "\n",
    "    def restart(self): ## Restart the algorithm: Reset the time index to zero and epsilon to 1 (done), the values of the empirical means, \n",
    "                     ## number of pulls, and cumulative regret to zero.\n",
    "        self.time = 0.0\n",
    "        self.eps = 1\n",
    "        self.emp_means = np.zeros(self.num_arms)\n",
    "        self.num_pulls = np.zeros(self.num_arms)\n",
    "        self.cum_reg = [0]\n",
    "\n",
    "    def get_best_arm(self):## For each time index, find the best arm according to e-greedy   \n",
    "        if np.random.rand() >= self.eps:\n",
    "            return np.argmax(self.emp_means)\n",
    "        else:\n",
    "            return np.random.choice(self.num_arms)\n",
    "\n",
    "    def update_stats(self, rew, arm): ## Update the empirical means, the number of pulls, epsilon, and increment the time index\n",
    "        self.time += 1.0\n",
    "        self.num_pulls[arm] += 1.0\n",
    "        self.emp_means[arm] = (self.emp_means[arm] * (self.num_pulls[arm] - 1.0) + rew[arm])/self.num_pulls[arm]\n",
    "        self.eps = min(1,(self.num_arms*self.C)/(self.time * (self.delta**2)))\n",
    "    \n",
    "    def update_reg(self,rew_vec,arm): ## Update the cumulative regret\n",
    "        self.cum_reg += [self.cum_reg[-1] + rew_vec[self.best_arm] - rew_vec[arm]]\n",
    "\n",
    "    def iterate(self, rew_vec): ## Iterate the algorithm\n",
    "        arm = self.get_best_arm()\n",
    "        self.update_stats(rew_vec, arm)\n",
    "        self.update_reg(rew_vec, arm)"
   ]
  },
  {
   "cell_type": "markdown",
   "metadata": {
    "id": "I10RrDSQKSRE"
   },
   "source": [
    "# Experiment Function\n",
    "The following code runs the $\\varepsilon$-greedy algorithm for multiple instances. In the code below, num_inst is the number of instances, and num_iter is the time horizon."
   ]
  },
  {
   "cell_type": "code",
   "execution_count": 4,
   "metadata": {
    "id": "0Fx9jS8yKSRE"
   },
   "outputs": [],
   "source": [
    "def run_algo(avg, num_iter, num_inst):\n",
    "    \n",
    "    reg = np.zeros((num_inst, num_iter))\n",
    "    algo = egreedy(avg)\n",
    "    \n",
    "    for j in range(num_inst):\n",
    "        algo.restart()\n",
    "        \n",
    "        if (j+1)%10 == 0:\n",
    "            print('Instance number = ', j+1)\n",
    "        \n",
    "        for t in range(num_iter-1):\n",
    "            rew_vec = get_reward(avg)\n",
    "            algo.iterate(rew_vec)\n",
    "            \n",
    "        reg[j,:]= np.asarray(algo.cum_reg)\n",
    "        \n",
    "    return reg"
   ]
  },
  {
   "cell_type": "markdown",
   "metadata": {
    "id": "d7F-qmObKSRE"
   },
   "source": [
    "# Initializations\n",
    "Use the following to initialize your algorithm. The value of $k$ is implicitly set to $5$ in the initialization below. (You can change the number of arms $k$ and their values in the avg vector in any manner to test your algorithm. This vector contains the actual mean rewards)."
   ]
  },
  {
   "cell_type": "code",
   "execution_count": 5,
   "metadata": {
    "id": "wQ7a9BK5KSRF"
   },
   "outputs": [],
   "source": [
    "avg = np.asarray([0.96,0.7,0.5,0.6,0.1])\n",
    "num_iter,num_inst = int(1e4),10"
   ]
  },
  {
   "cell_type": "markdown",
   "metadata": {
    "id": "PwYSOBtKKSRF"
   },
   "source": [
    "# Run Experiment"
   ]
  },
  {
   "cell_type": "code",
   "execution_count": 6,
   "metadata": {
    "id": "k-FGPjfcKSRF"
   },
   "outputs": [
    {
     "name": "stdout",
     "output_type": "stream",
     "text": [
      "Instance number =  10\n"
     ]
    }
   ],
   "source": [
    "reg = run_algo(avg, num_iter, num_inst)"
   ]
  },
  {
   "cell_type": "markdown",
   "metadata": {
    "id": "WaSqLWgEgZJy"
   },
   "source": [
    "## Plotting the Results\n",
    "\n",
    "Questions: \n",
    "\n",
    "1 - Compute the average regret over the number of instances and plot it against the horizon. Label the x-axis as time, and the y-axis as Cumulative Regret. Add a caption labeling this as 'Cumulative Regret with $\\varepsilon$-greedy'.\n",
    "\n",
    "2 - Use the semilogx function in matplotlib to check that the regret is logarithmic against horizon."
   ]
  },
  {
   "cell_type": "code",
   "execution_count": 7,
   "metadata": {},
   "outputs": [
    {
     "data": {
      "image/png": "[encoded data removed]",
      "text/plain": [
       "<Figure size 432x288 with 1 Axes>"
      ]
     },
     "metadata": {
      "needs_background": "light"
     },
     "output_type": "display_data"
    },
    {
     "data": {
      "image/png": "[encoded data removed]",
      "text/plain": [
       "<Figure size 432x288 with 1 Axes>"
      ]
     },
     "metadata": {
      "needs_background": "light"
     },
     "output_type": "display_data"
    }
   ],
   "source": [
    "# 1 - Plotting the cumulative regret against time\n",
    "plt.figure(figsize=(6,4))\n",
    "time = np.arange(num_iter)\n",
    "cum_reg = np.mean(reg, axis=0)\n",
    "plt.plot(time, cum_reg)\n",
    "plt.xlabel('Time')\n",
    "plt.ylabel('Cumulative Regret')\n",
    "plt.title('Cumulative Regret with ε-greedy')\n",
    "plt.show()\n",
    "\n",
    "# 2 - Checking that the regret is logarithmic against horizon\n",
    "plt.figure(figsize=(6,4))\n",
    "plt.semilogx(time, cum_reg)\n",
    "plt.xlabel('Log Time')\n",
    "plt.ylabel('Cumulative Regret')\n",
    "plt.title('Cumulative Regret with ε-greedy (Logarithmic Scale)')\n",
    "plt.show()"
   ]
  }
 ],
 "metadata": {
  "colab": {
   "provenance": []
  },
  "kernelspec": {
   "display_name": "Python 3",
   "language": "python",
   "name": "python3"
  },
  "language_info": {
   "codemirror_mode": {
    "name": "ipython",
    "version": 3
   },
   "file_extension": ".py",
   "mimetype": "text/x-python",
   "name": "python",
   "nbconvert_exporter": "python",
   "pygments_lexer": "ipython3",
   "version": "3.8.5"
  }
 },
 "nbformat": 4,
 "nbformat_minor": 4
}
