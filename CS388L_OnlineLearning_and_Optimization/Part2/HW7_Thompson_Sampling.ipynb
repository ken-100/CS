{
 "cells": [
  {
   "cell_type": "markdown",
   "metadata": {
    "id": "xFLVXPpgG1k2"
   },
   "source": [
    "# Thompson Sampling\n",
    "\n",
    "In this exercise, we will be experimenting with the Multi-armed bandit problem with the Thompson Sampling algorithm described in chapter 36 in the textbook.\n",
    "\n",
    "## Setup\n",
    "\n",
    "Suppose that we have $k$ arms, each with a random bernoulli reward at time $t$. The following code should be implemented to capture this setup."
   ]
  },
  {
   "cell_type": "markdown",
   "metadata": {
    "id": "f88001UmKSQy"
   },
   "source": [
    "# Import Dependencies"
   ]
  },
  {
   "cell_type": "code",
   "execution_count": 1,
   "metadata": {
    "id": "vVQUR4a1KSQ1"
   },
   "outputs": [],
   "source": [
    "import numpy as np\n",
    "import pickle\n",
    "import matplotlib.pyplot as plt"
   ]
  },
  {
   "cell_type": "markdown",
   "metadata": {
    "id": "u_YYBfQGKSRD"
   },
   "source": [
    "# Reward function\n",
    "Question: Implement the reward function described in the setup. Specifically, given a $k$- dimensional vector 'avg' representing the true means, return a $k$- dimensional vector 'rew' such that $rew[i] = 1$ if $avg[i] > np.random.random()$ and $0$ otherwise."
   ]
  },
  {
   "cell_type": "code",
   "execution_count": 37,
   "metadata": {},
   "outputs": [],
   "source": [
    "def get_reward(avg):\n",
    "    k = len(avg)\n",
    "    rew = np.zeros(k)\n",
    "\n",
    "    for i in range(k):\n",
    "        rew[i] = 1 if avg[i] > np.random.random() else 0\n",
    "\n",
    "    return rew"
   ]
  },
  {
   "cell_type": "code",
   "execution_count": 23,
   "metadata": {},
   "outputs": [],
   "source": [
    "# def get_reward(avg):\n",
    "\n",
    "#     rew = np.zeros(avg.size)\n",
    "#     for i in range(avg.size):\n",
    "#       if np.random.random() < avg[i]:\n",
    "#         rew[i] = 1 \n",
    "#       else: rew[i] = 0\n",
    "#     return rew"
   ]
  },
  {
   "cell_type": "code",
   "execution_count": 28,
   "metadata": {},
   "outputs": [
    {
     "data": {
      "text/plain": [
       "array([0., 0., 0., 0., 0.])"
      ]
     },
     "execution_count": 28,
     "metadata": {},
     "output_type": "execute_result"
    }
   ],
   "source": [
    "# np.random.seed(0)\n",
    "# get_reward(avg)\n",
    "\n"
   ]
  },
  {
   "cell_type": "code",
   "execution_count": 33,
   "metadata": {},
   "outputs": [],
   "source": [
    "# def get_reward(avg):\n",
    "\n",
    "#     rew = np.zeros(avg.size)\n",
    "#     for i in range(avg.size):\n",
    "#         if np.random.random() < avg[i]:\n",
    "#             rew[i] = 1 \n",
    "#         else: rew[i] = 0\n",
    "#     return rew"
   ]
  },
  {
   "cell_type": "markdown",
   "metadata": {
    "id": "mDJG9e-k6HN7"
   },
   "source": [
    "## Algorithm review\n",
    "\n",
    "\n",
    "Recall that the beta distribution is the conjugate prior probability distribution for the Bernoulli. Hence, in the algorithm we need to update the shape parameters alpha and beta. Check Algorithm 1 in: https://arxiv.org/pdf/1209.3353.pdf for more details. The algorithm is as follows:\n",
    "\n",
    "1. Choose the arm with the maximum sample from the beta distribution with parameters alpha and beta.\n",
    "3. Update these parameters and repeat.\n",
    "\n",
    "## Goal of this exercise\n",
    "\n",
    "Implement the following using the template provided below. Please use the variable names suggested in the comments.\n",
    "\n",
    "1. Basic Thompson Sampling algorithm implementation\n",
    "2. Plot the expected cumulative regret of the Thompson Sampling algorithm as a function of time.\n",
    "3. The cumulative regret is expected to be logarithmic against the horizon. To check that this is case, plot the logarithm of the expected cumulative regret of the Thompson Sampling algorithm. (Hint: use the semilogx function in matplotlib.pyplot) "
   ]
  },
  {
   "cell_type": "markdown",
   "metadata": {
    "id": "MquGHcbOKSQ7"
   },
   "source": [
    "## Thompson Sampling\n",
    "Question:\n",
    "\n",
    "Implement Thompson Sampling algorithm using the skeleton below. The initialization part is done. Fill out the rest of the skeleton."
   ]
  },
  {
   "cell_type": "code",
   "execution_count": 38,
   "metadata": {},
   "outputs": [],
   "source": [
    "class TS():    \n",
    "\n",
    "    def __init__(self, avg):## Initialization\n",
    "        self.means = avg\n",
    "        self.num_arms = avg.size       \n",
    "        self.best_arm = np.argmax(self.means)\n",
    "        self.restart()\n",
    "   \n",
    "    def restart(self): ## Restart the algorithm: Reset the values of self.alpha and self.beta to ones (done). \n",
    "                       ## Reset the cumulative regret vector to zero.\n",
    "        self.alpha = np.ones(self.num_arms)\n",
    "        self.beta = np.ones(self.num_arms) \n",
    "        self.cum_reg = [0]\n",
    "    \n",
    "    def get_best_arm(self): ## For each time index, find the best arm according to Thompson Sampling\n",
    "        return np.argmax(np.random.beta(self.alpha, self.beta))\n",
    "    \n",
    "    def update(self, arm, rew): ## Update the alpha and beta vectors\n",
    "        self.alpha[arm] += rew\n",
    "        self.beta[arm] += 1 - rew\n",
    "       \n",
    "    def update_reg(self, arm, rew_vec): ## Update the cumulative regret vector\n",
    "        self.cum_reg += [self.cum_reg[-1] + rew_vec[self.best_arm] - rew_vec[arm]]\n",
    "    \n",
    "    def iterate(self, rew_vec):  ## Iterate the algorithm\n",
    "        play = self.get_best_arm()\n",
    "        self.update(play, rew_vec[play])\n",
    "        self.update_reg(play, rew_vec)"
   ]
  },
  {
   "cell_type": "markdown",
   "metadata": {
    "id": "I10RrDSQKSRE"
   },
   "source": [
    "# Experiment Function\n",
    "\n",
    "The following code runs the Thompson Sampling algorithm for multiple instances. In the code below, num_inst is the number of instances, and num_iter is the time at which we stop."
   ]
  },
  {
   "cell_type": "code",
   "execution_count": 40,
   "metadata": {},
   "outputs": [],
   "source": [
    "def run_algo(avg, num_iter, num_inst):\n",
    "    \n",
    "    reg = np.zeros((num_inst, num_iter))\n",
    "    \n",
    "    algo = TS(avg)\n",
    "    \n",
    "    \n",
    "    for k in range(num_inst):\n",
    "        algo.restart()\n",
    "        \n",
    "        if (k+1)%10 == 0:\n",
    "            print('Instance number = ', k+1)\n",
    "        \n",
    "        for t in range(num_iter-1):\n",
    "            rew_vec = get_reward(avg)\n",
    "            \n",
    "            algo.iterate(rew_vec)\n",
    "            \n",
    "        reg[k,:] = np.asarray(algo.cum_reg)\n",
    "        \n",
    "    return reg"
   ]
  },
  {
   "cell_type": "markdown",
   "metadata": {
    "id": "d7F-qmObKSRE"
   },
   "source": [
    "# Initializations\n",
    "Use the following to initialize your algorithm. (This vector contains the actual mean rewards)."
   ]
  },
  {
   "cell_type": "code",
   "execution_count": 41,
   "metadata": {
    "id": "wQ7a9BK5KSRF"
   },
   "outputs": [],
   "source": [
    "avg = np.asarray([0.30, 0.25, 0.20, 0.15, 0.10])\n",
    "num_iter,num_inst = int(1e4), 50"
   ]
  },
  {
   "cell_type": "markdown",
   "metadata": {
    "id": "PwYSOBtKKSRF"
   },
   "source": [
    "# Run Experiment\n",
    "\n",
    "\n"
   ]
  },
  {
   "cell_type": "code",
   "execution_count": 42,
   "metadata": {
    "id": "k-FGPjfcKSRF"
   },
   "outputs": [
    {
     "name": "stdout",
     "output_type": "stream",
     "text": [
      "Instance number =  10\n",
      "Instance number =  20\n",
      "Instance number =  30\n",
      "Instance number =  40\n",
      "Instance number =  50\n"
     ]
    }
   ],
   "source": [
    "reg = run_algo(avg, num_iter, num_inst)"
   ]
  },
  {
   "cell_type": "markdown",
   "metadata": {
    "id": "-YRpvPqE_ex2"
   },
   "source": [
    "## Plotting the Results\n",
    "\n",
    "Questions: \n",
    "\n",
    "1 - Compute the average regret over the number of instances and plot it against the number of iterations. Label the x-axis as time, and the y-axis as Cumulative Regret. Add a caption labeling this as 'Cumulative Regret with Thompson Sampling'.\n",
    "\n",
    "2 - Use the semilogx function in matplotlib to check that the regret is logarithmic against horizon."
   ]
  },
  {
   "cell_type": "code",
   "execution_count": 43,
   "metadata": {
    "id": "OM7JbeOxKSRG"
   },
   "outputs": [
    {
     "data": {
      "image/png": "[encoded data removed]",
      "text/plain": [
       "<Figure size 432x288 with 1 Axes>"
      ]
     },
     "metadata": {
      "needs_background": "light"
     },
     "output_type": "display_data"
    },
    {
     "data": {
      "image/png": "[encoded data removed]",
      "text/plain": [
       "<Figure size 432x288 with 1 Axes>"
      ]
     },
     "metadata": {
      "needs_background": "light"
     },
     "output_type": "display_data"
    }
   ],
   "source": [
    "# Plotting the average cumulative regret\n",
    "avg_cum_reg = np.mean(reg, axis=0)\n",
    "plt.plot(avg_cum_reg)\n",
    "plt.xlabel('Time')\n",
    "plt.ylabel('Cumulative Regret')\n",
    "plt.title('Cumulative Regret with Thompson Sampling')\n",
    "plt.show()\n",
    "\n",
    "# Plotting the logarithm of the average cumulative regret\n",
    "plt.semilogx(avg_cum_reg)\n",
    "plt.xlabel('Time')\n",
    "plt.ylabel('Logarithm of Cumulative Regret')\n",
    "plt.title('Logarithm of Cumulative Regret with Thompson Sampling')\n",
    "plt.show()"
   ]
  },
  {
   "cell_type": "code",
   "execution_count": null,
   "metadata": {},
   "outputs": [],
   "source": []
  },
  {
   "cell_type": "code",
   "execution_count": null,
   "metadata": {},
   "outputs": [],
   "source": []
  }
 ],
 "metadata": {
  "colab": {
   "provenance": []
  },
  "kernelspec": {
   "display_name": "Python 3",
   "language": "python",
   "name": "python3"
  },
  "language_info": {
   "codemirror_mode": {
    "name": "ipython",
    "version": 3
   },
   "file_extension": ".py",
   "mimetype": "text/x-python",
   "name": "python",
   "nbconvert_exporter": "python",
   "pygments_lexer": "ipython3",
   "version": "3.8.5"
  }
 },
 "nbformat": 4,
 "nbformat_minor": 4
}
