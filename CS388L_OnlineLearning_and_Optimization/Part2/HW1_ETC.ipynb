{
 "cells": [
  {
   "cell_type": "markdown",
   "metadata": {
    "id": "bgybWZRAtj3a"
   },
   "source": [
    "# Explore Then Commit (ETC)\n",
    "\n",
    "In this exercise, we will be experimenting with the Multi-armed bandit problem with the Explore Then Commit (ETC) algorithm.\n",
    "\n",
    "## Setup\n",
    "\n",
    "Consider an unstructured bandit problem. Suppose that we have $k$ arms, each with random reward at time $t$ given by $rew[t] = avg[t] + \\epsilon[t]$ where $\\epsilon[t]$ is drawn from an i.i.d. standard Gaussian distribution. Note that we only require $\\epsilon[t]$ to be sub-Gaussian for the analysis to go through.\n",
    "\n",
    "The following code should be implemented to capture this setup."
   ]
  },
  {
   "cell_type": "markdown",
   "metadata": {
    "id": "u_YYBfQGKSRD"
   },
   "source": [
    "# Reward function\n",
    "\n",
    "Question: Implement the reward function described in the setup. Specifically, given a $k$- dimensional vector 'avg', return $k$- dimensional vector 'rew' such that\n",
    "$rew[t] = avg[t] + \\epsilon[t]$ where $\\epsilon[t] \\sim \\mathcal{N}(0,I)$ where $I$ \n",
    "is the identity matrix of size $k \\times k$."
   ]
  },
  {
   "cell_type": "code",
   "execution_count": 1,
   "metadata": {},
   "outputs": [],
   "source": [
    "def get_reward(avg):\n",
    "    rew = avg + np.random.multivariate_normal(np.zeros(len(avg)),np.identity(len(avg)))\n",
    "    return rew"
   ]
  },
  {
   "cell_type": "markdown",
   "metadata": {
    "id": "YPM7i0etu9jE"
   },
   "source": [
    "## Algorithm review\n",
    "Recall there are three parameters of interest in the ETC algoritm: $(n, k, m),$ where $n$ is the time horizon, $k$ is the number of arms and $m$ is an algorithm parameter. Please refer to the lecture notes and the text book for details.\n",
    "\n",
    "The parameter to set: the exploration time m\\*k\n",
    "\n",
    "1. Choose each arm in the round-robin fashion until each arm is played m times\n",
    "2. Compute the empirical reward estimate for each arm\n",
    "3. Choose the best arm (according to the empirical reward estimate) until the end of the game\n",
    "\n",
    "## Goal of this exercise\n",
    "\n",
    "Implement the following using the template provided below. Please use the variable names suggested in the comments.\n",
    "\n",
    "1. Basic ETC algorithm implementation\n",
    "2. Plot the expected cumulative regret of ETC vs. horizon ($n$).\n",
    "\n"
   ]
  },
  {
   "cell_type": "markdown",
   "metadata": {
    "id": "f88001UmKSQy"
   },
   "source": [
    "# Import Dependencies"
   ]
  },
  {
   "cell_type": "code",
   "execution_count": 2,
   "metadata": {
    "id": "vVQUR4a1KSQ1"
   },
   "outputs": [],
   "source": [
    "import numpy as np\n",
    "import pickle\n",
    "import matplotlib.pyplot as plt\n",
    "import math"
   ]
  },
  {
   "cell_type": "markdown",
   "metadata": {
    "id": "vZyQhcUbF-fT"
   },
   "source": [
    "## ETC\n",
    "Question: \n",
    "Implement ETC using the skeleton below. The initialization part is done. Fill out the rest of the skeleton."
   ]
  },
  {
   "cell_type": "code",
   "execution_count": 3,
   "metadata": {},
   "outputs": [],
   "source": [
    "class ETC():\n",
    "    def __init__(self, avg, m): ## Initialization\n",
    "\n",
    "        self.means = avg\n",
    "        self.m = m\n",
    "        self.num_arms = avg.size\n",
    "        self.best_arm = np.argmax(avg)\n",
    "        self.restart() \n",
    "\n",
    "    \n",
    "    def restart(self): ## Restart the algorithm: Reset the time index to zero (done), the values of the empirical means, \n",
    "                     ## number of pulls, and cumulative regret to zero.\n",
    "        self.time = 0.0\n",
    "        self.emp_means = np.zeros(self.num_arms)\n",
    "        self.num_pulls = np.zeros(self.num_arms)\n",
    "        self.cum_reg = [0]\n",
    "\n",
    "    \n",
    "    def get_best_arm(self): ## For each time index, find the best arm according to ETC.\n",
    "        if self.time <= self.m * self.num_arms:\n",
    "            if self.time == self.m * self.num_arms:\n",
    "                global temp\n",
    "                temp = self.emp_means\n",
    "            return int(self.time % self.num_arms)\n",
    "        else:\n",
    "            return np.argmax(temp)\n",
    "\n",
    "    def update_stats(self, rew, arm): ## Update the empirical means, the number of pulls, and increment the time index\n",
    "        self.time += 1.0\n",
    "        self.num_pulls[arm] += 1.0\n",
    "        self.emp_means[arm] = (self.emp_means[arm] * (self.num_pulls[arm] - 1.0) + rew[arm])/self.num_pulls[arm]\n",
    "\n",
    "    def update_reg(self,rew_vec,arm): ## Update the cumulative regret\n",
    "        self.cum_reg += [self.cum_reg[-1] + rew_vec[self.best_arm] - rew_vec[arm]]\n",
    "        \n",
    "    def iterate(self, rew_vec): ## Iterate the algorithm\n",
    "        arm = self.get_best_arm()\n",
    "        self.update_stats(rew_vec, arm)\n",
    "        self.update_reg(rew_vec, arm)"
   ]
  },
  {
   "cell_type": "markdown",
   "metadata": {
    "id": "I10RrDSQKSRE"
   },
   "source": [
    "# Experiment Function\n",
    "The following code runs the ETC algorithm for multiple instances. In the code below, num_inst is the number of instances, and num_iter is the time horizon."
   ]
  },
  {
   "cell_type": "code",
   "execution_count": 4,
   "metadata": {
    "id": "0Fx9jS8yKSRE"
   },
   "outputs": [],
   "source": [
    "def run_algo(avg, m, num_iter, num_inst):\n",
    "    \n",
    "    reg = np.zeros((num_inst, num_iter))\n",
    "    algo = ETC(avg, m)\n",
    "    \n",
    "    for j in range(num_inst):\n",
    "        algo.restart()\n",
    "        \n",
    "        if (j+1) % 10 == 0:\n",
    "            print('Instance number = ', j+1)\n",
    "        \n",
    "        for t in range(num_iter-1):\n",
    "            rew_vec = get_reward(avg)\n",
    "            algo.iterate(rew_vec)\n",
    "            \n",
    "        reg[j,:]= np.asarray(algo.cum_reg)\n",
    "        \n",
    "    return reg"
   ]
  },
  {
   "cell_type": "markdown",
   "metadata": {
    "id": "d7F-qmObKSRE"
   },
   "source": [
    "# Initializations\n",
    "Use the following to initialize your algorithm. The value of $k$ is implicitly set to $6$ in the initialization below. (You can change the number of arms $k$ and their values in the avg vector in any manner to test your algorithm. This vector contains the actual mean rewards). $m$ below has been set to $1$ as a default. Update this to reflect the correct initialization."
   ]
  },
  {
   "cell_type": "code",
   "execution_count": 5,
   "metadata": {
    "id": "wQ7a9BK5KSRF"
   },
   "outputs": [],
   "source": [
    "avg = np.asarray([0.6, 0.9, 0.95, 0.8, 0.7, 0.3])\n",
    "num_iter,num_inst = int(1e4),30\n",
    "sort = np.sort(avg)[::-1]\n",
    "delta = sort[0] - sort[len(avg) - 1]\n",
    "m = max(1, math.ceil(4/0.2**2 * math.log(num_iter * 0.2**2/4)) ) ## Your code to update m here. (Hint: Use equation (6.5) in the book)"
   ]
  },
  {
   "cell_type": "markdown",
   "metadata": {
    "id": "PwYSOBtKKSRF"
   },
   "source": [
    "# Run Experiment"
   ]
  },
  {
   "cell_type": "code",
   "execution_count": 6,
   "metadata": {
    "id": "k-FGPjfcKSRF"
   },
   "outputs": [
    {
     "name": "stdout",
     "output_type": "stream",
     "text": [
      "Instance number =  10\n",
      "Instance number =  20\n",
      "Instance number =  30\n"
     ]
    }
   ],
   "source": [
    "reg = run_algo(avg, m, num_iter, num_inst)"
   ]
  },
  {
   "cell_type": "markdown",
   "metadata": {
    "id": "E6U2Vm26yMns"
   },
   "source": [
    "## Plotting the Results\n",
    "\n",
    "Questions: \\\n",
    "1 - Compute the average regret over the number of instances and plot it against the horizon. Label the x-axis as time, and the y-axis as Cumulative Regret. Add a caption labeling this as 'Cumulative Regret with ETC'.\\\n",
    "2 - Plot a vertical line at $x = len(avg) * m $. "
   ]
  },
  {
   "cell_type": "code",
   "execution_count": 7,
   "metadata": {
    "id": "lZpmOkD--nsk"
   },
   "outputs": [
    {
     "data": {
      "image/png": "[encoded data removed]",
      "text/plain": [
       "<Figure size 432x288 with 1 Axes>"
      ]
     },
     "metadata": {
      "needs_background": "light"
     },
     "output_type": "display_data"
    }
   ],
   "source": [
    "# Compute average regret over the number of instances\n",
    "\n",
    "plt.plot(np.mean(reg,0))\n",
    "plt.xlabel('Time')\n",
    "plt.ylabel('Cumulative Regret')\n",
    "plt.title('Cumulative Regret with ETC')\n",
    "\n",
    "plt.axvline(x=len(avg) * m, linestyle='--')\n",
    "plt.show()"
   ]
  }
 ],
 "metadata": {
  "colab": {
   "provenance": []
  },
  "kernelspec": {
   "display_name": "Python 3",
   "language": "python",
   "name": "python3"
  },
  "language_info": {
   "codemirror_mode": {
    "name": "ipython",
    "version": 3
   },
   "file_extension": ".py",
   "mimetype": "text/x-python",
   "name": "python",
   "nbconvert_exporter": "python",
   "pygments_lexer": "ipython3",
   "version": "3.8.5"
  }
 },
 "nbformat": 4,
 "nbformat_minor": 4
}
